{
 "cells": [
  {
   "cell_type": "code",
   "execution_count": 1,
   "id": "5e63ebd0",
   "metadata": {},
   "outputs": [],
   "source": [
    "import math, copy\n",
    "import numpy as np\n",
    "import matplotlib.pyplot as plt"
   ]
  },
  {
   "cell_type": "markdown",
   "id": "aac62f0d",
   "metadata": {},
   "source": [
    "Let's use the two data points below - a house with 1000 square feet sold for \\\\$300,000 and a house with 2000 square feet sold for \\\\$500,000.\n",
    "\n",
    "| Size (1000 sqft)     | Price (1000s of dollars) |\n",
    "| ----------------| ------------------------ |\n",
    "| 1               | 300                      |\n",
    "| 2               | 500                      |"
   ]
  },
  {
   "cell_type": "code",
   "execution_count": 2,
   "id": "9c1069f5",
   "metadata": {},
   "outputs": [],
   "source": [
    "x_train = np.array([1, 2])\n",
    "y_train = np.array([300, 500])"
   ]
  },
  {
   "cell_type": "code",
   "execution_count": 61,
   "id": "71be120a",
   "metadata": {},
   "outputs": [],
   "source": [
    "def plotting(w, b, x, y):\n",
    "    f = w * x + b\n",
    "    plt.plot(x, f, 'r');\n",
    "    plt.plot(x, y, 'bo');"
   ]
  },
  {
   "cell_type": "code",
   "execution_count": 92,
   "id": "f8d02b7a",
   "metadata": {},
   "outputs": [],
   "source": [
    "# We will start with these values of paramters.\n",
    "w_init, b_init = 0, 0"
   ]
  },
  {
   "cell_type": "code",
   "execution_count": 94,
   "id": "ad1806ec",
   "metadata": {},
   "outputs": [
    {
     "data": {
      "image/png": "[encoded data removed]",
      "text/plain": [
       "<Figure size 432x288 with 1 Axes>"
      ]
     },
     "metadata": {
      "needs_background": "light"
     },
     "output_type": "display_data"
    }
   ],
   "source": [
    "# Ploting the non fitted line with the initial values.\n",
    "plotting(w_init, b_init, x_train, y_train)"
   ]
  },
  {
   "cell_type": "markdown",
   "id": "4d0a2fdc",
   "metadata": {},
   "source": [
    "### Computing the cost function."
   ]
  },
  {
   "cell_type": "code",
   "execution_count": 3,
   "id": "6e25a7dc",
   "metadata": {},
   "outputs": [],
   "source": [
    "def compute_cost(x, y, w, b):\n",
    "    m = x.shape[0]\n",
    "    error = 0\n",
    "    for i in range(m):\n",
    "        f = w * x_train[i] + b\n",
    "        error += (f - y[i]) ** 2\n",
    "\n",
    "    cost = (1 / (2 * m)) * cost\n",
    "    return error"
   ]
  },
  {
   "cell_type": "markdown",
   "id": "4c5cf877",
   "metadata": {},
   "source": [
    "### Computing the gradient in any point in the cost function."
   ]
  },
  {
   "cell_type": "code",
   "execution_count": 96,
   "id": "6e196f11",
   "metadata": {},
   "outputs": [],
   "source": [
    "def compute_gradient(x, y, w, b):\n",
    "    m = x.shape[0]\n",
    "    dj_dw, dj_db = 0, 0\n",
    "\n",
    "    for i in range(m):\n",
    "        f = w * x[i] + b\n",
    "        diff = f - y[i]\n",
    "\n",
    "        dj_db += diff\n",
    "        dj_dw += diff * x[i]\n",
    "\n",
    "    return dj_db / m, dj_dw / m"
   ]
  },
  {
   "cell_type": "markdown",
   "id": "e1bb0ec4",
   "metadata": {},
   "source": [
    "### Applying gradient descent to get the best fitted parameters."
   ]
  },
  {
   "cell_type": "code",
   "execution_count": 98,
   "id": "3a014233",
   "metadata": {},
   "outputs": [],
   "source": [
    "def gradient_descent(x, y, w_init, b_init, alpha, numOfIterations):\n",
    "    w = w_init\n",
    "    b = b_init\n",
    "    J_history = []\n",
    "    p_history = []\n",
    "    for i in range(numOfIterations):\n",
    "        dj_db, dj_dw = compute_gradient(x, y, w, b)\n",
    "        w = w - 0.1 * dj_dw\n",
    "        b = b - 0.1 * dj_db\n",
    "        \n",
    "        J_history.append(compute_cost(x, y, w, b))\n",
    "        p_history.append([w, b])\n",
    "        \n",
    "        if i% math.ceil(numOfIterations/10) == 0:\n",
    "            print(f\"Iteration {i:4}: Cost {J_history[-1]:0.2e}\",\n",
    "                  f\"dj_dw: {dj_dw:0.3e}, dj_db: {dj_db: 0.3e}\", \n",
    "                  f\"w: {w: 0.3e}, b: {b: 0.5e}\")\n",
    "            \n",
    "    return b, w, J_history, p_history"
   ]
  },
  {
   "cell_type": "code",
   "execution_count": 99,
   "id": "46646656",
   "metadata": {},
   "outputs": [
    {
     "name": "stdout",
     "output_type": "stream",
     "text": [
      "Iteration    0: Cost 3.67e+04 dj_dw: -6.500e+02, dj_db: -4.000e+02 w:  6.500e+01, b:  4.00000e+01\n",
      "Iteration 1000: Cost 6.33e-06 dj_dw: -5.091e-04, dj_db:  8.238e-04 w:  2.000e+02, b:  1.00011e+02\n",
      "Iteration 2000: Cost 2.77e-12 dj_dw: -3.366e-07, dj_db:  5.446e-07 w:  2.000e+02, b:  1.00000e+02\n",
      "Iteration 3000: Cost 1.21e-18 dj_dw: -2.225e-10, dj_db:  3.600e-10 w:  2.000e+02, b:  1.00000e+02\n",
      "Iteration 4000: Cost 5.49e-25 dj_dw: -1.705e-13, dj_db:  2.274e-13 w:  2.000e+02, b:  1.00000e+02\n",
      "Iteration 5000: Cost 1.05e-25 dj_dw: -1.421e-13, dj_db:  5.684e-14 w:  2.000e+02, b:  1.00000e+02\n",
      "Iteration 6000: Cost 1.05e-25 dj_dw: -1.421e-13, dj_db:  5.684e-14 w:  2.000e+02, b:  1.00000e+02\n",
      "Iteration 7000: Cost 1.05e-25 dj_dw: -1.421e-13, dj_db:  5.684e-14 w:  2.000e+02, b:  1.00000e+02\n",
      "Iteration 8000: Cost 1.05e-25 dj_dw: -1.421e-13, dj_db:  5.684e-14 w:  2.000e+02, b:  1.00000e+02\n",
      "Iteration 9000: Cost 1.05e-25 dj_dw: -1.421e-13, dj_db:  5.684e-14 w:  2.000e+02, b:  1.00000e+02\n"
     ]
    }
   ],
   "source": [
    "iterations = 10000\n",
    "tmp_alpha = 1.0e-2\n",
    "\n",
    "b_final, w_final, J_history, p_history = gradient_descent(x_train, y_train, w_init, b_init,tmp_alpha, iterations)"
   ]
  },
  {
   "cell_type": "code",
   "execution_count": 100,
   "id": "727cd1a3",
   "metadata": {},
   "outputs": [
    {
     "data": {
      "image/png": "[encoded data removed]",
      "text/plain": [
       "<Figure size 432x288 with 1 Axes>"
      ]
     },
     "metadata": {
      "needs_background": "light"
     },
     "output_type": "display_data"
    }
   ],
   "source": [
    "# Now, we plot the fitted line with the final paramters' values.\n",
    "plotting(w_final, b_final, x_train, y_train)"
   ]
  },
  {
   "cell_type": "code",
   "execution_count": 102,
   "id": "dd2e2464",
   "metadata": {},
   "outputs": [
    {
     "name": "stdout",
     "output_type": "stream",
     "text": [
      "1000 sqft house prediction 300.0 Thousand dollars\n",
      "1200 sqft house prediction 340.0 Thousand dollars\n",
      "2000 sqft house prediction 500.0 Thousand dollars\n"
     ]
    }
   ],
   "source": [
    "print(f\"1000 sqft house prediction {w_final*1.0 + b_final:0.1f} Thousand dollars\")\n",
    "print(f\"1200 sqft house prediction {w_final*1.2 + b_final:0.1f} Thousand dollars\")\n",
    "print(f\"2000 sqft house prediction {w_final*2.0 + b_final:0.1f} Thousand dollars\")"
   ]
  }
 ],
 "metadata": {
  "kernelspec": {
   "display_name": "Python 3 (ipykernel)",
   "language": "python",
   "name": "python3"
  },
  "language_info": {
   "codemirror_mode": {
    "name": "ipython",
    "version": 3
   },
   "file_extension": ".py",
   "mimetype": "text/x-python",
   "name": "python",
   "nbconvert_exporter": "python",
   "pygments_lexer": "ipython3",
   "version": "3.10.0"
  }
 },
 "nbformat": 4,
 "nbformat_minor": 5
}
